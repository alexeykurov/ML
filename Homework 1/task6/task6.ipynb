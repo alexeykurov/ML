{
 "cells": [
  {
   "cell_type": "code",
   "execution_count": 1,
   "metadata": {
    "collapsed": true
   },
   "outputs": [],
   "source": [
    "import numpy as np\n",
    "X = np.array([2, 2, 2, 3, 3, 3, 5, 5, 2, 2, 3, 3, 1])\n",
    "test = np.random.randint(0, 10, 1000)\n",
    "test.sort()\n",
    "test1 = np.random.randint(0, 10, 100000)\n",
    "test1.sort()"
   ]
  },
  {
   "cell_type": "code",
   "execution_count": 2,
   "metadata": {
    "collapsed": false
   },
   "outputs": [
    {
     "name": "stdout",
     "output_type": "stream",
     "text": [
      "([2, 3, 5, 2, 3, 1], [3, 3, 2, 2, 2, 1])\n"
     ]
    }
   ],
   "source": [
    "def solve(array):\n",
    "    counts = [0]\n",
    "    nums = [array[0]]\n",
    "    for num in array:\n",
    "        if num == nums[-1]:\n",
    "            counts[-1] += 1\n",
    "        else: \n",
    "            nums.append(num)\n",
    "            counts.append(1)\n",
    "    return nums, counts\n",
    "print(solve(X))"
   ]
  },
  {
   "cell_type": "code",
   "execution_count": 3,
   "metadata": {
    "collapsed": false
   },
   "outputs": [
    {
     "name": "stdout",
     "output_type": "stream",
     "text": [
      "(array([2, 3, 5, 2, 3, 1]), array([3, 3, 2, 2, 2, 1]))\n"
     ]
    }
   ],
   "source": [
    "def solve_vector(array):\n",
    "    first_num_idx = np.where(np.diff(array) != 0)[0] + 1\n",
    "    first_num_idx = np.concatenate(([0], first_num_idx))\n",
    "    counts = np.diff(first_num_idx)\n",
    "    counts = np.concatenate((counts, [len(array) - first_num_idx[-1]]))  # append counts of last numbers\n",
    "    return array[first_num_idx], counts\n",
    "print(solve_vector(X))"
   ]
  },
  {
   "cell_type": "code",
   "execution_count": 4,
   "metadata": {
    "collapsed": false
   },
   "outputs": [
    {
     "name": "stdout",
     "output_type": "stream",
     "text": [
      "The slowest run took 6.53 times longer than the fastest. This could mean that an intermediate result is being cached.\n",
      "100000 loops, best of 3: 6.03 µs per loop\n",
      "100000 loops, best of 3: 19.4 µs per loop\n",
      "1000 loops, best of 3: 257 µs per loop\n",
      "10000 loops, best of 3: 21.5 µs per loop\n",
      "10 loops, best of 3: 27 ms per loop\n",
      "1000 loops, best of 3: 191 µs per loop\n"
     ]
    }
   ],
   "source": [
    "%timeit(solve(X))\n",
    "%timeit(solve_vector(X))\n",
    "%timeit(solve(test))\n",
    "%timeit(solve_vector(test))\n",
    "%timeit(solve(test1))\n",
    "%timeit(solve_vector(test1))"
   ]
  },
  {
   "cell_type": "code",
   "execution_count": null,
   "metadata": {
    "collapsed": true
   },
   "outputs": [],
   "source": []
  }
 ],
 "metadata": {
  "anaconda-cloud": {},
  "kernelspec": {
   "display_name": "Python [conda root]",
   "language": "python",
   "name": "conda-root-py"
  },
  "language_info": {
   "codemirror_mode": {
    "name": "ipython",
    "version": 3
   },
   "file_extension": ".py",
   "mimetype": "text/x-python",
   "name": "python",
   "nbconvert_exporter": "python",
   "pygments_lexer": "ipython3",
   "version": "3.5.2"
  }
 },
 "nbformat": 4,
 "nbformat_minor": 0
}
