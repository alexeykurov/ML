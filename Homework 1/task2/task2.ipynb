{
 "cells": [
  {
   "cell_type": "code",
   "execution_count": 1,
   "metadata": {
    "collapsed": true
   },
   "outputs": [],
   "source": [
    "import numpy as np\n",
    "\n",
    "X = np.array(range(4 * 5)).reshape(4, 5) + 1\n",
    "i_idx = np.array([1, 3, 0, 2])\n",
    "j_idx = np.array([0, 2, 3, 1])\n",
    "\n",
    "test = np.random.randint(0, 100, 40 * 50).reshape(40, 50) + 1\n",
    "test_i = np.random.randint(0, 40, 40)\n",
    "test_j = np.random.randint(0, 50, 40)\n",
    "\n",
    "test1 = np.random.randint(0, 100, 400 * 500).reshape(400, 500) + 1\n",
    "test1_i = np.random.randint(0, 400, 400)\n",
    "test1_j = np.random.randint(0, 500, 400)"
   ]
  },
  {
   "cell_type": "code",
   "execution_count": 2,
   "metadata": {
    "collapsed": false
   },
   "outputs": [
    {
     "data": {
      "text/plain": [
       "[6, 18, 4, 12]"
      ]
     },
     "execution_count": 2,
     "metadata": {},
     "output_type": "execute_result"
    }
   ],
   "source": [
    "def solve(matrix, i_idx, j_idx):\n",
    "    return [matrix[z] for z in zip(i_idx, j_idx)]\n",
    "print(solve(X, i_idx, j_idx))"
   ]
  },
  {
   "cell_type": "code",
   "execution_count": 3,
   "metadata": {
    "collapsed": false
   },
   "outputs": [
    {
     "data": {
      "text/plain": [
       "array([ 6, 18,  4, 12])"
      ]
     },
     "execution_count": 3,
     "metadata": {},
     "output_type": "execute_result"
    }
   ],
   "source": [
    "def solve_vector(matrix, i_idx, j_idx):\n",
    "    return matrix[i_idx, j_idx]\n",
    "print(solve_vector(X, i_idx, j_jdx))"
   ]
  },
  {
   "cell_type": "code",
   "execution_count": 4,
   "metadata": {
    "collapsed": false
   },
   "outputs": [
    {
     "name": "stdout",
     "output_type": "stream",
     "text": [
      "The slowest run took 5.03 times longer than the fastest. This could mean that an intermediate result is being cached.\n100000 loops, best of 3: 4.22 µs per loop\n"
     ]
    },
    {
     "name": "stdout",
     "output_type": "stream",
     "text": [
      "The slowest run took 47.18 times longer than the fastest. This could mean that an intermediate result is being cached.\n100000 loops, best of 3: 1.81 µs per loop\n"
     ]
    }
   ],
   "source": [
    "%timeit solve(X, i_idx, j_jdx)\n",
    "%timeit solve_vector(X, i_idx, j_jdx)"
   ]
  },
  {
   "cell_type": "code",
   "execution_count": null,
   "metadata": {
    "collapsed": true
   },
   "outputs": [],
   "source": [
    "%timeit solve(test, test_i, test_j)\n",
    "%timeit solve_vector(test, test_i, test_j)"
   ]
  },
  {
   "cell_type": "code",
   "execution_count": null,
   "metadata": {},
   "outputs": [],
   "source": [
    "%timeit solve(test1, test1_i, test1_j)\n",
    "%timeit solve_vector(test1, test1_i, test1_j)"
   ]
  },
  {
   "cell_type": "code",
   "execution_count": null,
   "outputs": [],
   "source": [
    ""
   ]
  }
 ],
 "metadata": {
  "anaconda-cloud": {},
  "kernelspec": {
   "display_name": "Python [conda root]",
   "language": "python",
   "name": "conda-root-py"
  },
  "language_info": {
   "codemirror_mode": {
    "name": "ipython",
    "version": 3.0
   },
   "file_extension": ".py",
   "mimetype": "text/x-python",
   "name": "python",
   "nbconvert_exporter": "python",
   "pygments_lexer": "ipython3",
   "version": "3.5.2"
  }
 },
 "nbformat": 4,
 "nbformat_minor": 0
}