{
 "cells": [
  {
   "cell_type": "code",
   "execution_count": 115,
   "metadata": {
    "collapsed": true
   },
   "outputs": [],
   "source": [
    "import numpy as np\n",
    "X = np.array([6, 2, 0, 3, 0, 0, 5, 0, 9])\n",
    "\n",
    "test = np.random.randint(0, 10, 1000)\n",
    "test1 = np.random.randint(0, 10, 100000)"
   ]
  },
  {
   "cell_type": "code",
   "execution_count": 116,
   "metadata": {},
   "outputs": [
    {
     "name": "stdout",
     "output_type": "stream",
     "text": [
      "9\n"
     ]
    }
   ],
   "source": [
    "def solve(array):\n",
    "    return max([array[i] for i in range(1, len(array)) if array[i-1] == 0])\n",
    "print(solve(X))"
   ]
  },
  {
   "cell_type": "code",
   "execution_count": 117,
   "metadata": {},
   "outputs": [
    {
     "name": "stdout",
     "output_type": "stream",
     "text": [
      "9\n"
     ]
    }
   ],
   "source": [
    "def solve_vector(A):\n",
    "    zeros = (A == 0)\n",
    "    return A[1:][zeros[:-1]].max()\n",
    "print(solve_vector(X))"
   ]
  },
  {
   "cell_type": "code",
   "execution_count": 118,
   "metadata": {},
   "outputs": [
    {
     "name": "stdout",
     "output_type": "stream",
     "text": [
      "100000 loops, best of 3: 4.09 µs per loop\n"
     ]
    },
    {
     "name": "stdout",
     "output_type": "stream",
     "text": [
      "The slowest run took 10.65 times longer than the fastest. This could mean that an intermediate result is being cached.\n100000 loops, best of 3: 4.32 µs per loop\n++++++++++++++++++++++++++++++++++++++++++++++++++++++++++++++++++++++++++++++++++++++++++++++++++++\n9 9\n"
     ]
    },
    {
     "name": "stdout",
     "output_type": "stream",
     "text": [
      "1000 loops, best of 3: 312 µs per loop\n"
     ]
    },
    {
     "name": "stdout",
     "output_type": "stream",
     "text": [
      "The slowest run took 6.38 times longer than the fastest. This could mean that an intermediate result is being cached.\n100000 loops, best of 3: 6.65 µs per loop\n++++++++++++++++++++++++++++++++++++++++++++++++++++++++++++++++++++++++++++++++++++++++++++++++++++\n9 9\n"
     ]
    },
    {
     "name": "stdout",
     "output_type": "stream",
     "text": [
      "10 loops, best of 3: 31.2 ms per loop\n"
     ]
    },
    {
     "name": "stdout",
     "output_type": "stream",
     "text": [
      "1000 loops, best of 3: 360 µs per loop\n"
     ]
    }
   ],
   "source": [
    "%timeit solve(X)\n",
    "%timeit solve_vector(X)\n",
    "print('+'*100)\n",
    "print(solve(test), solve_vector(test))\n",
    "%timeit solve(test)\n",
    "%timeit solve_vector(test)\n",
    "print('+'*100)\n",
    "print(solve(test1), solve_vector(test1))\n",
    "%timeit solve(test1)\n",
    "%timeit solve_vector(test1)\n"
   ]
  },
  {
   "cell_type": "code",
   "execution_count": null,
   "metadata": {},
   "outputs": [],
   "source": [
    ""
   ]
  }
 ],
 "metadata": {
  "kernelspec": {
   "display_name": "Python 2",
   "language": "python",
   "name": "python2"
  },
  "language_info": {
   "codemirror_mode": {
    "name": "ipython",
    "version": 2.0
   },
   "file_extension": ".py",
   "mimetype": "text/x-python",
   "name": "python",
   "nbconvert_exporter": "python",
   "pygments_lexer": "ipython2",
   "version": "2.7.6"
  }
 },
 "nbformat": 4,
 "nbformat_minor": 0
}