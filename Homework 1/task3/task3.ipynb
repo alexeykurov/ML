{
 "cells": [
  {
   "cell_type": "code",
   "execution_count": 2,
   "metadata": {
    "collapsed": true
   },
   "outputs": [],
   "source": [
    "import numpy as np\n",
    "x = np.array([1, 2, 4, 2])\n",
    "y = np.array([4, 2, 2, 1])\n",
    "z = np.array([3, 2, 2, 1])\n",
    "\n",
    "\n",
    "willTrue = np.ones((50, 50), dtype=int) * np.random.randint(0, 100, 50)\n",
    "willFalse = np.random.rand(100, 100)\n",
    "\n",
    "willTrue1 = np.ones((500, 500), dtype=int) * np.random.randint(0, 1000, 500)\n",
    "willFalse1 = np.random.rand(500, 500)"
   ]
  },
  {
   "cell_type": "code",
   "execution_count": 3,
   "metadata": {
    "collapsed": false
   },
   "outputs": [
    {
     "name": "stdout",
     "output_type": "stream",
     "text": [
      "True\nFalse\n"
     ]
    }
   ],
   "source": [
    "def solve(matrix):\n",
    "    test = sorted(matrix[0])\n",
    "    return all([x == test for x in map(sorted, matrix[1:])])\n",
    "print(solve([x, y]))\n",
    "print(solve([x, y, z]))"
   ]
  },
  {
   "cell_type": "code",
   "execution_count": 4,
   "metadata": {
    "collapsed": false
   },
   "outputs": [
    {
     "name": "stdout",
     "output_type": "stream",
     "text": [
      "True\nFalse\n"
     ]
    }
   ],
   "source": [
    "def solve_vector(t):\n",
    "    t.sort()\n",
    "    return (t[1:] == t[0]).all()\n",
    "print(solve_vector(np.array([x, y])))\n",
    "print(solve_vector(np.array([x, y, z])))"
   ]
  },
  {
   "cell_type": "code",
   "execution_count": 4,
   "metadata": {
    "collapsed": false
   },
   "outputs": [],
   "source": [
    "%timeit solve([x, y])\n",
    "%timeit solve_vector(np.array([x, y]))\n",
    "%timeit solve([x, y, z])\n",
    "%timeit solve_vector(np.array([x, y, z]))"
   ]
  },
  {
   "cell_type": "code",
   "execution_count": null,
   "metadata": {
    "collapsed": true
   },
   "outputs": [],
   "source": [
    "%timeit solve(willTrue)\n",
    "%timeit solve_vector(willTrue)\n",
    "%timeit solve(willFalse)\n",
    "%timeit solve_vector(willFalse)"
   ]
  },
  {
   "cell_type": "code",
   "execution_count": null,
   "metadata": {},
   "outputs": [],
   "source": [
    "%timeit solve(willTrue1)\n",
    "%timeit solve_vector(willTrue1)\n",
    "%timeit solve(willFalse1)\n",
    "%timeit solve_vector(willFalse1)"
   ]
  },
  {
   "cell_type": "code",
   "execution_count": null,
   "outputs": [],
   "source": [
    ""
   ]
  }
 ],
 "metadata": {
  "anaconda-cloud": {},
  "kernelspec": {
   "display_name": "Python [conda root]",
   "language": "python",
   "name": "conda-root-py"
  },
  "language_info": {
   "codemirror_mode": {
    "name": "ipython",
    "version": 3.0
   },
   "file_extension": ".py",
   "mimetype": "text/x-python",
   "name": "python",
   "nbconvert_exporter": "python",
   "pygments_lexer": "ipython3",
   "version": "3.5.2"
  }
 },
 "nbformat": 4,
 "nbformat_minor": 0
}