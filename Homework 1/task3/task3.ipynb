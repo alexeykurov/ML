{
 "cells": [
  {
   "cell_type": "code",
   "execution_count": 2,
   "metadata": {
    "collapsed": true
   },
   "outputs": [],
   "source": [
    "import numpy as np\n",
    "x = np.array([1, 2, 4, 2])\n",
    "y = np.array([4, 2, 2, 1])\n",
    "z = np.array([3, 2, 2, 1])\n",
    "z1 = np.array([3, 2, 2, 1, 3])\n",
    "\n",
    "willTrue = np.ones((50, 50), dtype=int) * np.random.randint(0, 100, 50)\n",
    "willFalse = np.random.rand(100, 100)\n",
    "\n",
    "willTrue1 = np.ones((500, 500), dtype=int) * np.random.randint(0, 1000, 500)\n",
    "willFalse1 = np.random.rand(500, 500)"
   ]
  },
  {
   "cell_type": "code",
   "execution_count": 8,
   "metadata": {},
   "outputs": [
    {
     "name": "stdout",
     "output_type": "stream",
     "text": [
      "True\nFalse\n"
     ]
    }
   ],
   "source": [
    "def solve(arrays):\n",
    "    test = sorted(arrays[0])\n",
    "    return all([x == test for x in map(sorted, arrays[1:])])\n",
    "print(solve([x, y]))\n",
    "print(solve([x, y, z, z1]))"
   ]
  },
  {
   "cell_type": "code",
   "execution_count": 15,
   "metadata": {},
   "outputs": [
    {
     "name": "stdout",
     "output_type": "stream",
     "text": [
      "True\n[3 2 2 1] [0 1 2 0 1]\nFalse\n"
     ]
    }
   ],
   "source": [
    "def solve_vector(arrays):\n",
    "    test = np.bincount(arrays[0])\n",
    "    for i in range(1, len(arrays)):\n",
    "        if not np.array_equal(np.bincount(arrays[i]), test):\n",
    "            return False\n",
    "    return True\n",
    "print(solve_vector(np.array([x, y])))\n",
    "print(solve_vector(np.array([x, y, z, z1])))"
   ]
  },
  {
   "cell_type": "code",
   "execution_count": 5,
   "metadata": {},
   "outputs": [],
   "source": [
    "%timeit solve([x, y])\n",
    "%timeit solve_vector(np.array([x, y]))\n",
    "%timeit solve([x, y, z, z1])\n",
    "%timeit solve_vector(np.array([x, y, z]))"
   ]
  },
  {
   "cell_type": "code",
   "execution_count": 5,
   "metadata": {},
   "outputs": [
    {
     "name": "stdout",
     "output_type": "stream",
     "text": [
      "1000 loops, best of 3: 628 µs per loop\n"
     ]
    },
    {
     "name": "stdout",
     "output_type": "stream",
     "text": [
      "The slowest run took 13.53 times longer than the fastest. This could mean that an intermediate result is being cached.\n100000 loops, best of 3: 16.8 µs per loop\n"
     ]
    },
    {
     "name": "stdout",
     "output_type": "stream",
     "text": [
      "100 loops, best of 3: 2.6 ms per loop\n"
     ]
    },
    {
     "name": "stdout",
     "output_type": "stream",
     "text": [
      "The slowest run took 5.15 times longer than the fastest. This could mean that an intermediate result is being cached.\n10000 loops, best of 3: 80.6 µs per loop\n"
     ]
    }
   ],
   "source": [
    "%timeit solve(willTrue)\n",
    "%timeit solve_vector(willTrue)\n",
    "%timeit solve(willFalse)\n",
    "%timeit solve_vector(willFalse)"
   ]
  },
  {
   "cell_type": "code",
   "execution_count": 6,
   "metadata": {},
   "outputs": [],
   "source": [
    "%timeit solve(willTrue1)\n",
    "%timeit solve_vector(willTrue1)\n",
    "%timeit solve(willFalse1)\n",
    "%timeit solve_vector(willFalse1)"
   ]
  },
  {
   "cell_type": "code",
   "execution_count": null,
   "outputs": [],
   "source": [
    ""
   ]
  }
 ],
 "metadata": {
  "kernelspec": {
   "display_name": "Python 2",
   "language": "python",
   "name": "python2"
  },
  "language_info": {
   "codemirror_mode": {
    "name": "ipython",
    "version": 2.0
   },
   "file_extension": ".py",
   "mimetype": "text/x-python",
   "name": "python",
   "nbconvert_exporter": "python",
   "pygments_lexer": "ipython2",
   "version": "2.7.6"
  }
 },
 "nbformat": 4,
 "nbformat_minor": 0
}