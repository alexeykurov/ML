{
 "cells": [
  {
   "cell_type": "code",
   "execution_count": 1,
   "metadata": {
    "collapsed": true
   },
   "outputs": [],
   "source": [
    "import numpy as np\n",
    "x = np.array([1, 2, 4, 2])\n",
    "y = np.array([4, 2, 2, 1])\n",
    "z = np.array([3, 2, 2, 1, 1])\n",
    "\n",
    "willTrue = np.ones((50, 50), dtype=int) * np.random.randint(0, 100, 50, dtype=int)\n",
    "willFalse = np.random.randint(0, 100, (50, 50), dtype=int)\n",
    "willTrue1 = np.ones((500, 500), dtype=int) * np.random.randint(0, 1000, 500, dtype=int)\n",
    "willFalse1 = np.random.randint(0, 100, (500, 500), dtype=int)"
   ]
  },
  {
   "cell_type": "code",
   "execution_count": 2,
   "metadata": {},
   "outputs": [
    {
     "name": "stdout",
     "output_type": "stream",
     "text": [
      "True\nFalse\n"
     ]
    }
   ],
   "source": [
    "def solve(arrays):\n",
    "    test = sorted(arrays[0])\n",
    "    return all([x == test for x in map(sorted, arrays[1:])])\n",
    "print(solve([x, y]))\n",
    "print(solve([x, y, z]))"
   ]
  },
  {
   "cell_type": "code",
   "execution_count": 3,
   "metadata": {},
   "outputs": [
    {
     "name": "stdout",
     "output_type": "stream",
     "text": [
      "True\nFalse\n"
     ]
    }
   ],
   "source": [
    "def solve_vector(arrays):\n",
    "    test = np.bincount(arrays[0])\n",
    "    y = np.full((arrays.shape[0],), False, dtype='bool');\n",
    "    for i in range(len(arrays)):\n",
    "        y[i] = np.array_equal(np.bincount(arrays[i]), test)\n",
    "    return y.all()\n",
    "print(solve_vector(np.array([x, y])))\n",
    "print(solve_vector(np.array([x, y, z])))"
   ]
  },
  {
   "cell_type": "code",
   "execution_count": 4,
   "metadata": {},
   "outputs": [
    {
     "name": "stdout",
     "output_type": "stream",
     "text": [
      "The slowest run took 6.06 times longer than the fastest. This could mean that an intermediate result is being cached.\n100000 loops, best of 3: 5.38 µs per loop\n"
     ]
    },
    {
     "name": "stdout",
     "output_type": "stream",
     "text": [
      "The slowest run took 13.52 times longer than the fastest. This could mean that an intermediate result is being cached.\n10000 loops, best of 3: 23 µs per loop\n"
     ]
    },
    {
     "name": "stdout",
     "output_type": "stream",
     "text": [
      "The slowest run took 11.24 times longer than the fastest. This could mean that an intermediate result is being cached.\n100000 loops, best of 3: 7.4 µs per loop\n"
     ]
    },
    {
     "name": "stdout",
     "output_type": "stream",
     "text": [
      "The slowest run took 6.51 times longer than the fastest. This could mean that an intermediate result is being cached.\n10000 loops, best of 3: 24 µs per loop\n"
     ]
    }
   ],
   "source": [
    "%timeit solve([x, y])\n",
    "%timeit solve_vector(np.array([x, y]))\n",
    "%timeit solve([x, y, z])\n",
    "%timeit solve_vector(np.array([x, y, z]))"
   ]
  },
  {
   "cell_type": "code",
   "execution_count": 5,
   "metadata": {},
   "outputs": [
    {
     "name": "stdout",
     "output_type": "stream",
     "text": [
      "1000 loops, best of 3: 591 µs per loop\n"
     ]
    },
    {
     "name": "stdout",
     "output_type": "stream",
     "text": [
      "1000 loops, best of 3: 298 µs per loop\n"
     ]
    },
    {
     "name": "stdout",
     "output_type": "stream",
     "text": [
      "1000 loops, best of 3: 593 µs per loop\n"
     ]
    },
    {
     "name": "stdout",
     "output_type": "stream",
     "text": [
      "10000 loops, best of 3: 150 µs per loop\n"
     ]
    }
   ],
   "source": [
    "%timeit solve(willTrue)\n",
    "%timeit solve_vector(willTrue)\n",
    "%timeit solve(willFalse)\n",
    "%timeit solve_vector(willFalse)"
   ]
  },
  {
   "cell_type": "code",
   "execution_count": 6,
   "metadata": {},
   "outputs": [
    {
     "name": "stdout",
     "output_type": "stream",
     "text": [
      "10 loops, best of 3: 82.6 ms per loop\n"
     ]
    },
    {
     "name": "stdout",
     "output_type": "stream",
     "text": [
      "100 loops, best of 3: 4.25 ms per loop\n"
     ]
    },
    {
     "name": "stdout",
     "output_type": "stream",
     "text": [
      "10 loops, best of 3: 77.2 ms per loop\n"
     ]
    },
    {
     "name": "stdout",
     "output_type": "stream",
     "text": [
      "100 loops, best of 3: 3.42 ms per loop\n"
     ]
    }
   ],
   "source": [
    "%timeit solve(willTrue1)\n",
    "%timeit solve_vector(willTrue1)\n",
    "%timeit solve(willFalse1)\n",
    "%timeit solve_vector(willFalse1)"
   ]
  },
  {
   "cell_type": "code",
   "execution_count": null,
   "metadata": {},
   "outputs": [],
   "source": [
    ""
   ]
  }
 ],
 "metadata": {
  "kernelspec": {
   "display_name": "Python 2",
   "language": "python",
   "name": "python2"
  },
  "language_info": {
   "codemirror_mode": {
    "name": "ipython",
    "version": 2.0
   },
   "file_extension": ".py",
   "mimetype": "text/x-python",
   "name": "python",
   "nbconvert_exporter": "python",
   "pygments_lexer": "ipython2",
   "version": "2.7.6"
  }
 },
 "nbformat": 4,
 "nbformat_minor": 0
}