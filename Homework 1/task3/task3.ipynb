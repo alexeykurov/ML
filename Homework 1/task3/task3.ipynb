{
 "cells": [
  {
   "cell_type": "code",
   "execution_count": 1,
   "metadata": {
    "collapsed": true
   },
   "outputs": [],
   "source": [
    "import numpy as np\n",
    "x = np.array([1, 2, 4, 2])\n",
    "y = np.array([4, 2, 2, 1])\n",
    "z = np.array([3, 2, 2, 1])\n",
    "\n",
    "\n",
    "willTrue = np.ones((50, 50), dtype=int) * np.random.randint(0, 100, 50)\n",
    "willFalse = np.random.rand(100, 100)\n",
    "\n",
    "willTrue1 = np.ones((500, 500), dtype=int) * np.random.randint(0, 1000, 500)\n",
    "willFalse1 = np.random.rand(500, 500)"
   ]
  },
  {
   "cell_type": "code",
   "execution_count": 2,
   "metadata": {},
   "outputs": [
    {
     "name": "stdout",
     "output_type": "stream",
     "text": [
      "True\nFalse\n"
     ]
    }
   ],
   "source": [
    "def solve(matrix):\n",
    "    test = sorted(matrix[0])\n",
    "    return all([x == test for x in map(sorted, matrix[1:])])\n",
    "print(solve([x, y]))\n",
    "print(solve([x, y, z]))"
   ]
  },
  {
   "cell_type": "code",
   "execution_count": 3,
   "metadata": {},
   "outputs": [
    {
     "name": "stdout",
     "output_type": "stream",
     "text": [
      "True\nFalse\n"
     ]
    }
   ],
   "source": [
    "def solve_vector(t):\n",
    "    t.sort()\n",
    "    return (t[1:] == t[0]).all()\n",
    "print(solve_vector(np.array([x, y])))\n",
    "print(solve_vector(np.array([x, y, z])))"
   ]
  },
  {
   "cell_type": "code",
   "execution_count": 4,
   "metadata": {},
   "outputs": [
    {
     "name": "stdout",
     "output_type": "stream",
     "text": [
      "The slowest run took 13.78 times longer than the fastest. This could mean that an intermediate result is being cached.\n100000 loops, best of 3: 5.92 µs per loop\n"
     ]
    },
    {
     "name": "stdout",
     "output_type": "stream",
     "text": [
      "The slowest run took 20.68 times longer than the fastest. This could mean that an intermediate result is being cached.\n100000 loops, best of 3: 9.09 µs per loop\n"
     ]
    },
    {
     "name": "stdout",
     "output_type": "stream",
     "text": [
      "The slowest run took 4.22 times longer than the fastest. This could mean that an intermediate result is being cached.\n100000 loops, best of 3: 7.54 µs per loop\n"
     ]
    },
    {
     "name": "stdout",
     "output_type": "stream",
     "text": [
      "The slowest run took 5.36 times longer than the fastest. This could mean that an intermediate result is being cached.\n100000 loops, best of 3: 10.6 µs per loop\n"
     ]
    }
   ],
   "source": [
    "%timeit solve([x, y])\n",
    "%timeit solve_vector(np.array([x, y]))\n",
    "%timeit solve([x, y, z])\n",
    "%timeit solve_vector(np.array([x, y, z]))"
   ]
  },
  {
   "cell_type": "code",
   "execution_count": 5,
   "metadata": {},
   "outputs": [
    {
     "name": "stdout",
     "output_type": "stream",
     "text": [
      "1000 loops, best of 3: 628 µs per loop\n"
     ]
    },
    {
     "name": "stdout",
     "output_type": "stream",
     "text": [
      "The slowest run took 13.53 times longer than the fastest. This could mean that an intermediate result is being cached.\n100000 loops, best of 3: 16.8 µs per loop\n"
     ]
    },
    {
     "name": "stdout",
     "output_type": "stream",
     "text": [
      "100 loops, best of 3: 2.6 ms per loop\n"
     ]
    },
    {
     "name": "stdout",
     "output_type": "stream",
     "text": [
      "The slowest run took 5.15 times longer than the fastest. This could mean that an intermediate result is being cached.\n10000 loops, best of 3: 80.6 µs per loop\n"
     ]
    }
   ],
   "source": [
    "%timeit solve(willTrue)\n",
    "%timeit solve_vector(willTrue)\n",
    "%timeit solve(willFalse)\n",
    "%timeit solve_vector(willFalse)"
   ]
  },
  {
   "cell_type": "code",
   "execution_count": 6,
   "metadata": {},
   "outputs": [
    {
     "name": "stdout",
     "output_type": "stream",
     "text": [
      "10 loops, best of 3: 91 ms per loop\n"
     ]
    },
    {
     "name": "stdout",
     "output_type": "stream",
     "text": [
      "100 loops, best of 3: 2.49 ms per loop\n"
     ]
    },
    {
     "name": "stdout",
     "output_type": "stream",
     "text": [
      "10 loops, best of 3: 81.5 ms per loop\n"
     ]
    },
    {
     "name": "stdout",
     "output_type": "stream",
     "text": [
      "100 loops, best of 3: 3.44 ms per loop\n"
     ]
    }
   ],
   "source": [
    "%timeit solve(willTrue1)\n",
    "%timeit solve_vector(willTrue1)\n",
    "%timeit solve(willFalse1)\n",
    "%timeit solve_vector(willFalse1)"
   ]
  }
 ],
 "metadata": {
  "kernelspec": {
   "display_name": "Python 2",
   "language": "python",
   "name": "python2"
  },
  "language_info": {
   "codemirror_mode": {
    "name": "ipython",
    "version": 2.0
   },
   "file_extension": ".py",
   "mimetype": "text/x-python",
   "name": "python",
   "nbconvert_exporter": "python",
   "pygments_lexer": "ipython2",
   "version": "2.7.6"
  }
 },
 "nbformat": 4,
 "nbformat_minor": 0
}