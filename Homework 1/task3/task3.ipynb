{
 "cells": [
  {
   "cell_type": "code",
   "execution_count": 1,
   "metadata": {
    "collapsed": true
   },
   "outputs": [],
   "source": [
    "import numpy as np\n",
    "x = np.array([1, 2, 4, 2])\n",
    "y = np.array([4, 2, 2, 1])\n",
    "z = np.array([3, 2, 2, 1])\n",
    "\n",
    "\n",
    "willTrue = np.ones((100, 100), dtype=int) * np.random.randint(0, 1000, 100)\n",
    "willFalse = np.random.rand(100, 100)"
   ]
  },
  {
   "cell_type": "code",
   "execution_count": 2,
   "metadata": {
    "collapsed": false
   },
   "outputs": [
    {
     "name": "stdout",
     "output_type": "stream",
     "text": [
      "True\n",
      "False\n"
     ]
    }
   ],
   "source": [
    "def solve(matrix):\n",
    "    test = sorted(matrix[0])\n",
    "    return all([x == test for x in map(sorted, matrix[1:])])\n",
    "print(solve([x, y]))\n",
    "print(solve([x, y, z]))"
   ]
  },
  {
   "cell_type": "code",
   "execution_count": 3,
   "metadata": {
    "collapsed": false
   },
   "outputs": [
    {
     "name": "stdout",
     "output_type": "stream",
     "text": [
      "True\n",
      "False\n"
     ]
    }
   ],
   "source": [
    "def solve_vector(t):\n",
    "    t.sort()\n",
    "    return (t[1:] == t[0]).all()\n",
    "print(solve_vector(np.array([x, y])))\n",
    "print(solve_vector(np.array([x, y, z])))"
   ]
  },
  {
   "cell_type": "code",
   "execution_count": 4,
   "metadata": {
    "collapsed": false
   },
   "outputs": [
    {
     "name": "stdout",
     "output_type": "stream",
     "text": [
      "The slowest run took 10.33 times longer than the fastest. This could mean that an intermediate result is being cached.\n",
      "100000 loops, best of 3: 5.29 µs per loop\n",
      "The slowest run took 5.66 times longer than the fastest. This could mean that an intermediate result is being cached.\n",
      "100000 loops, best of 3: 8.3 µs per loop\n",
      "100000 loops, best of 3: 7.34 µs per loop\n",
      "The slowest run took 6.32 times longer than the fastest. This could mean that an intermediate result is being cached.\n",
      "100000 loops, best of 3: 8.15 µs per loop\n",
      "True\n",
      "True\n",
      "False\n",
      "False\n",
      "1000 loops, best of 3: 1.12 ms per loop\n",
      "The slowest run took 4.60 times longer than the fastest. This could mean that an intermediate result is being cached.\n",
      "10000 loops, best of 3: 45.7 µs per loop\n",
      "1000 loops, best of 3: 904 µs per loop\n",
      "10000 loops, best of 3: 69 µs per loop\n"
     ]
    }
   ],
   "source": [
    "%timeit solve([x, y])\n",
    "%timeit solve_vector(np.array([x, y]))\n",
    "%timeit solve([x, y, z])\n",
    "%timeit solve_vector(np.array([x, y, z]))\n",
    "print(solve(willTrue))\n",
    "print(solve_vector(willTrue))\n",
    "print(solve(willFalse))\n",
    "print(solve_vector(willFalse))\n",
    "%timeit solve(willTrue)\n",
    "%timeit solve_vector(willTrue)\n",
    "%timeit solve(willFalse)\n",
    "%timeit solve_vector(willFalse)"
   ]
  },
  {
   "cell_type": "code",
   "execution_count": null,
   "metadata": {
    "collapsed": true
   },
   "outputs": [],
   "source": []
  }
 ],
 "metadata": {
  "anaconda-cloud": {},
  "kernelspec": {
   "display_name": "Python [conda root]",
   "language": "python",
   "name": "conda-root-py"
  },
  "language_info": {
   "codemirror_mode": {
    "name": "ipython",
    "version": 3
   },
   "file_extension": ".py",
   "mimetype": "text/x-python",
   "name": "python",
   "nbconvert_exporter": "python",
   "pygments_lexer": "ipython3",
   "version": "3.5.2"
  }
 },
 "nbformat": 4,
 "nbformat_minor": 0
}
