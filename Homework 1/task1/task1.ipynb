{
 "cells": [
  {
   "cell_type": "code",
   "execution_count": 3,
   "metadata": {
    "collapsed": true
   },
   "outputs": [],
   "source": [
    "import numpy as np\n",
    "\n",
    "\n",
    "X = np.array([[1, 0, 1], [2, 0, 2], [3, 0, 3], [4, 4, 4]])\n",
    "\n",
    "test = np.random.randint(0, 5, 30*40, dtype='uint64').reshape((40, 30))\n",
    "test1 = np.random.randint(0, 5, 100*100, dtype='uint64').reshape((100, 100))"
   ]
  },
  {
   "cell_type": "code",
   "execution_count": 4,
   "metadata": {
    "collapsed": false
   },
   "outputs": [
    {
     "name": "stdout",
     "output_type": "stream",
     "text": [
      "3\n"
     ]
    }
   ],
   "source": [
    "import operator as op\n",
    "import functools as ft\n",
    "\n",
    "\n",
    "def prod(nums): return ft.reduce(op.mul, nums)\n",
    "\n",
    "def solve(matrix):\n",
    "    nums = [matrix[i, i] for i in range(min(matrix.shape))]\n",
    "    return prod(filter(lambda x: x != 0, nums))\n",
    "print(solve(X))"
   ]
  },
  {
   "cell_type": "code",
   "execution_count": 5,
   "metadata": {
    "collapsed": false
   },
   "outputs": [
    {
     "name": "stdout",
     "output_type": "stream",
     "text": [
      "3\n"
     ]
    }
   ],
   "source": [
    "def solve_vector(matrix):\n",
    "    d = matrix.diagonal()\n",
    "    res = np.prod(d[d > 0])\n",
    "    return res\n",
    "print(solve_vector(X))"
   ]
  },
  {
   "cell_type": "code",
   "execution_count": 6,
   "metadata": {
    "collapsed": false
   },
   "outputs": [
    {
     "name": "stdout",
     "output_type": "stream",
     "text": [
      "The slowest run took 9.00 times longer than the fastest. This could mean that an intermediate result is being cached.\n100000 loops, best of 3: 3.97 µs per loop\n"
     ]
    },
    {
     "name": "stdout",
     "output_type": "stream",
     "text": [
      "The slowest run took 7.85 times longer than the fastest. This could mean that an intermediate result is being cached.\n100000 loops, best of 3: 5.57 µs per loop\n"
     ]
    },
    {
     "name": "stdout",
     "output_type": "stream",
     "text": [
      "The slowest run took 27.18 times longer than the fastest. This could mean that an intermediate result is being cached.\n10000 loops, best of 3: 72.2 µs per loop\n"
     ]
    },
    {
     "name": "stdout",
     "output_type": "stream",
     "text": [
      "The slowest run took 155.70 times longer than the fastest. This could mean that an intermediate result is being cached.\n100000 loops, best of 3: 6.25 µs per loop\n"
     ]
    },
    {
     "name": "stderr",
     "output_type": "stream",
     "text": [
      "/Library/Frameworks/Python.framework/Versions/3.5/lib/python3.5/site-packages/ipykernel/__main__.py:5: RuntimeWarning: overflow encountered in ulong_scalars\n"
     ]
    },
    {
     "name": "stdout",
     "output_type": "stream",
     "text": [
      "The slowest run took 5.56 times longer than the fastest. This could mean that an intermediate result is being cached.\n1000 loops, best of 3: 262 µs per loop\n"
     ]
    },
    {
     "name": "stdout",
     "output_type": "stream",
     "text": [
      "The slowest run took 8.46 times longer than the fastest. This could mean that an intermediate result is being cached.\n100000 loops, best of 3: 6.98 µs per loop\n"
     ]
    }
   ],
   "source": [
    "%timeit solve(X)\n",
    "%timeit solve_vector(X)\n",
    "%timeit solve(test)\n",
    "%timeit solve_vector(test)\n",
    "%timeit solve(test1)\n",
    "%timeit solve_vector(test1)"
   ]
  },
  {
   "cell_type": "code",
   "execution_count": 7,
   "metadata": {
    "collapsed": false
   },
   "outputs": [
    {
     "name": "stdout",
     "output_type": "stream",
     "text": [
      "1289945088\n1289945088\n5188146770730811392\n5188146770730811392\n"
     ]
    },
    {
     "name": "stderr",
     "output_type": "stream",
     "text": [
      "/Library/Frameworks/Python.framework/Versions/3.5/lib/python3.5/site-packages/ipykernel/__main__.py:5: RuntimeWarning: overflow encountered in ulong_scalars\n"
     ]
    }
   ],
   "source": [
    "print(solve(test))\n",
    "print(solve_vector(test))\n",
    "print(solve(test1))\n",
    "print(solve_vector(test1))"
   ]
  },
  {
   "cell_type": "code",
   "execution_count": null,
   "metadata": {
    "collapsed": true
   },
   "outputs": [],
   "source": [
    ""
   ]
  }
 ],
 "metadata": {
  "anaconda-cloud": {},
  "kernelspec": {
   "display_name": "Python [conda root]",
   "language": "python",
   "name": "conda-root-py"
  },
  "language_info": {
   "codemirror_mode": {
    "name": "ipython",
    "version": 3.0
   },
   "file_extension": ".py",
   "mimetype": "text/x-python",
   "name": "python",
   "nbconvert_exporter": "python",
   "pygments_lexer": "ipython3",
   "version": "3.5.2"
  }
 },
 "nbformat": 4,
 "nbformat_minor": 0
}