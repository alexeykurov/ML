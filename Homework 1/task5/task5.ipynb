{
 "cells": [
  {
   "cell_type": "code",
   "execution_count": 36,
   "metadata": {},
   "outputs": [],
   "source": [
    "import scipy.misc\n",
    "import numpy as np\n",
    "img = scipy.misc.imread(\"test_image.PNG\")"
   ]
  },
  {
   "cell_type": "code",
   "execution_count": 52,
   "metadata": {},
   "outputs": [],
   "source": [
    "def solve (img):\n",
    "    res = [];\n",
    "    coeff = [0.299, 0.587, 0.114]\n",
    "    for line in img:\n",
    "        newLine = []\n",
    "        for pix in line:\n",
    "            newPix = sum([pix[i] * coeff[i] for i in range(len(pix) - 1)])\n",
    "            newLine.append(newPix)\n",
    "        res.append(newLine)\n",
    "    return res\n",
    "resImg = solve(img)\n",
    "scipy.misc.imsave('solve.png', resImg, 'png')"
   ]
  },
  {
   "cell_type": "code",
   "execution_count": 51,
   "metadata": {},
   "outputs": [],
   "source": [
    "def solve_vector (img):\n",
    "    return np.array(img[:, :, :3] @ [0.299, 0.587, 0.114], dtype='int')  # 4 channels\n",
    "\n",
    "resImg = solve_vector(img)\n",
    "scipy.misc.imsave('solve_vector.png', resImg, 'png')"
   ]
  },
  {
   "cell_type": "code",
   "execution_count": null,
   "metadata": {},
   "outputs": [],
   "source": [
    "%timeit solve(img)\n",
    "%timeit solve_img(img)"
   ]
  },
  {
   "cell_type": "code",
   "execution_count": null,
   "metadata": {},
   "outputs": [],
   "source": [
    ""
   ]
  }
 ],
 "metadata": {
  "kernelspec": {
   "display_name": "Python 2",
   "language": "python",
   "name": "python2"
  },
  "language_info": {
   "codemirror_mode": {
    "name": "ipython",
    "version": 2.0
   },
   "file_extension": ".py",
   "mimetype": "text/x-python",
   "name": "python",
   "nbconvert_exporter": "python",
   "pygments_lexer": "ipython2",
   "version": "2.7.6"
  }
 },
 "nbformat": 4,
 "nbformat_minor": 0
}